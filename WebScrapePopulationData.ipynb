{
  "nbformat": 4,
  "nbformat_minor": 0,
  "metadata": {
    "colab": {
      "name": "WebScrapePopulationData.ipynb",
      "provenance": [],
      "collapsed_sections": [],
      "authorship_tag": "ABX9TyMVysdsFvS4pLhlQUp78a3y",
      "include_colab_link": true
    },
    "kernelspec": {
      "name": "python3",
      "display_name": "Python 3"
    },
    "language_info": {
      "name": "python"
    }
  },
  "cells": [
    {
      "cell_type": "markdown",
      "metadata": {
        "id": "view-in-github",
        "colab_type": "text"
      },
      "source": [
        "<a href=\"https://colab.research.google.com/github/EkanshSaraf/WebScrapePopulationData/blob/main/WebScrapePopulationData.ipynb\" target=\"_parent\"><img src=\"https://colab.research.google.com/assets/colab-badge.svg\" alt=\"Open In Colab\"/></a>"
      ]
    },
    {
      "cell_type": "code",
      "metadata": {
        "id": "L40TTopwVWsd"
      },
      "source": [
        "import requests\n",
        "import urllib.request\n",
        "import time\n",
        "from bs4 import BeautifulSoup\n",
        "import numpy as np\n",
        "import pandas as pd\n",
        "from urllib.request import urlopen\n",
        "import re\n",
        "\n",
        "#url = 'https://en.wikipedia.org/wiki/List_of_cities_in_India_by_population'\n",
        "url = 'https://en.wikipedia.org/wiki/List_of_towns_in_India_by_population'\n",
        "html = urlopen(url) \n",
        "soup = BeautifulSoup(html, 'html.parser')"
      ],
      "execution_count": null,
      "outputs": []
    },
    {
      "cell_type": "code",
      "metadata": {
        "id": "irnvJSmwVsOe"
      },
      "source": [
        "def process_num(num):\n",
        "  return int(re.sub(r'[^\\w\\s.]','',num))"
      ],
      "execution_count": null,
      "outputs": []
    },
    {
      "cell_type": "code",
      "metadata": {
        "id": "5N6_LMUcWhiG"
      },
      "source": [
        "rank = []\n",
        "state = []\n",
        "town = []\n",
        "population = []\n",
        "\n",
        "tables = soup.find_all('table')\n",
        "\n",
        "for table in tables:\n",
        "  rows = table.find_all('tr')\n",
        "\n",
        "  for row in rows:\n",
        "    cells = row.find_all('td')\n",
        "\n",
        "    if len(cells)>3:\n",
        "      #rank.append(int(cells[0].text))\n",
        "\n",
        "      state.append(cells[1].text.strip())\n",
        "\n",
        "      town.append(cells[0].text.strip())\n",
        "\n",
        "      population.append(process_num(cells[3].text.strip()))"
      ],
      "execution_count": null,
      "outputs": []
    },
    {
      "cell_type": "code",
      "metadata": {
        "colab": {
          "base_uri": "https://localhost:8080/"
        },
        "id": "iOFVKyLwYncK",
        "outputId": "25558cb5-a744-4bc4-b63b-ff2c6b456687"
      },
      "source": [
        "df = pd.DataFrame(list(zip(state,town,population)),columns=['State','Town','Population'])\n",
        "len(df)\n",
        "#df.to_excel('Population Data.xlsx')\n",
        "#files.download('Population Data.xlsx')"
      ],
      "execution_count": null,
      "outputs": [
        {
          "output_type": "execute_result",
          "data": {
            "text/plain": [
              "986"
            ]
          },
          "metadata": {
            "tags": []
          },
          "execution_count": 29
        }
      ]
    },
    {
      "cell_type": "code",
      "metadata": {
        "colab": {
          "base_uri": "https://localhost:8080/",
          "height": 202
        },
        "id": "SabHa0TIm4zV",
        "outputId": "7eb20572-2b57-42f1-897f-dee09b28c3a3"
      },
      "source": [
        "df.head()"
      ],
      "execution_count": null,
      "outputs": [
        {
          "output_type": "execute_result",
          "data": {
            "text/html": [
              "<div>\n",
              "<style scoped>\n",
              "    .dataframe tbody tr th:only-of-type {\n",
              "        vertical-align: middle;\n",
              "    }\n",
              "\n",
              "    .dataframe tbody tr th {\n",
              "        vertical-align: top;\n",
              "    }\n",
              "\n",
              "    .dataframe thead th {\n",
              "        text-align: right;\n",
              "    }\n",
              "</style>\n",
              "<table border=\"1\" class=\"dataframe\">\n",
              "  <thead>\n",
              "    <tr style=\"text-align: right;\">\n",
              "      <th></th>\n",
              "      <th>State</th>\n",
              "      <th>Town</th>\n",
              "      <th>Population</th>\n",
              "    </tr>\n",
              "  </thead>\n",
              "  <tbody>\n",
              "    <tr>\n",
              "      <th>0</th>\n",
              "      <td>Uttar Pradesh</td>\n",
              "      <td>Achhnera</td>\n",
              "      <td>22781</td>\n",
              "    </tr>\n",
              "    <tr>\n",
              "      <th>1</th>\n",
              "      <td>Gujarat</td>\n",
              "      <td>Adalaj</td>\n",
              "      <td>11957</td>\n",
              "    </tr>\n",
              "    <tr>\n",
              "      <th>2</th>\n",
              "      <td>Kerala</td>\n",
              "      <td>Adoor</td>\n",
              "      <td>29171</td>\n",
              "    </tr>\n",
              "    <tr>\n",
              "      <th>3</th>\n",
              "      <td>Karnataka</td>\n",
              "      <td>Adyar</td>\n",
              "      <td>7034</td>\n",
              "    </tr>\n",
              "    <tr>\n",
              "      <th>4</th>\n",
              "      <td>West Bengal</td>\n",
              "      <td>Adra</td>\n",
              "      <td>14956</td>\n",
              "    </tr>\n",
              "  </tbody>\n",
              "</table>\n",
              "</div>"
            ],
            "text/plain": [
              "           State      Town  Population\n",
              "0  Uttar Pradesh  Achhnera       22781\n",
              "1        Gujarat    Adalaj       11957\n",
              "2         Kerala     Adoor       29171\n",
              "3      Karnataka     Adyar        7034\n",
              "4    West Bengal      Adra       14956"
            ]
          },
          "metadata": {
            "tags": []
          },
          "execution_count": 27
        }
      ]
    },
    {
      "cell_type": "code",
      "metadata": {
        "id": "fYoS7L4ba9sN"
      },
      "source": [
        "from google.colab import files\n",
        "uploaded = files.upload()"
      ],
      "execution_count": null,
      "outputs": []
    }
  ]
}